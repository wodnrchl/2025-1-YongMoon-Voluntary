{
  "nbformat": 4,
  "nbformat_minor": 0,
  "metadata": {
    "colab": {
      "provenance": []
    },
    "kernelspec": {
      "name": "python3",
      "display_name": "Python 3"
    },
    "language_info": {
      "name": "python"
    }
  },
  "cells": [
    {
      "cell_type": "code",
      "source": [
        "import torch\n",
        "\n",
        "data=[[1,2],[3,4]]\n",
        "x_data=torch.tensor(data)\n",
        "print(x_data)\n",
        "\n",
        "tensor=x_data\n",
        "\n",
        "tensor[:, 1] = 0\n",
        "print(tensor)\n",
        "\n",
        "\n",
        "y1 = tensor @ tensor.T\n",
        "y2 = tensor.matmul(tensor.T)\n",
        "\n",
        "print(y1)\n",
        "print(y2)"
      ],
      "metadata": {
        "colab": {
          "base_uri": "https://localhost:8080/"
        },
        "id": "W8vS3AkCHAg1",
        "outputId": "91d1470b-1842-4aaf-b476-cffe173b41d8"
      },
      "execution_count": 7,
      "outputs": [
        {
          "output_type": "stream",
          "name": "stdout",
          "text": [
            "tensor([[1, 2],\n",
            "        [3, 4]])\n",
            "tensor([[1, 0],\n",
            "        [3, 0]])\n",
            "tensor([[1, 3],\n",
            "        [3, 9]])\n",
            "tensor([[1, 3],\n",
            "        [3, 9]])\n"
          ]
        }
      ]
    },
    {
      "cell_type": "code",
      "source": [
        "tensor=x_data\n",
        "\n",
        "tensor[:, 1] = 0\n",
        "print(tensor)\n",
        "\n",
        "# 두 텐서 간의 행렬 곱(matrix multiplication)\n",
        "# ``tensor.T``는 텐서의 전치 행렬을 의미\n",
        "y1 = tensor @ tensor.T\n",
        "y2 = tensor.matmul(tensor.T)\n",
        "\n",
        "print(y1)\n",
        "print(y2)"
      ],
      "metadata": {
        "colab": {
          "base_uri": "https://localhost:8080/"
        },
        "id": "XWnsbewjIca2",
        "outputId": "372043dc-cc4e-45fb-efb9-71ccb53befda"
      },
      "execution_count": 9,
      "outputs": [
        {
          "output_type": "stream",
          "name": "stdout",
          "text": [
            "tensor([[1, 0],\n",
            "        [3, 0]])\n",
            "tensor([[1, 3],\n",
            "        [3, 9]])\n",
            "tensor([[1, 3],\n",
            "        [3, 9]])\n"
          ]
        }
      ]
    }
  ]
}